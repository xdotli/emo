{
 "cells": [
  {
   "cell_type": "markdown",
   "metadata": {},
   "source": [
    "# Emotion Recognition from Audio\n",
    "\n",
    "This notebook implements a two-step emotion recognition system that:\n",
    "1. Converts audio features to dominance, arousal, and valence (DAV) values\n",
    "2. Maps these DAV values to emotion categories\n",
    "\n",
    "## Dataset\n",
    "\n",
    "We use the **RAVDESS (Ryerson Audio-Visual Database of Emotional Speech and Song)** dataset:\n",
    "- 1,440 audio-only speech files\n",
    "- 24 professional actors (12 female, 12 male)\n",
    "- 8 emotions (neutral, calm, happy, sad, angry, fearful, disgust, surprised)\n",
    "- Available from Zenodo: https://zenodo.org/records/1188976\n",
    "\n",
    "## Baseline\n",
    "\n",
    "Our implementation is based on the paper:\n",
    "- \"Two-Stage Dimensional Emotion Recognition from Speech Using VAD Emotion Space\" by Koo et al. (2020)\n",
    "- Intermediate step accuracy (VAD regression): Valence: 0.42 CCC, Arousal: 0.71 CCC, Dominance: 0.54 CCC\n",
    "- End-to-end accuracy (Emotion classification): 68.4%"
   ]
  },
  {
   "cell_type": "markdown",
   "metadata": {},
   "source": [
    "## 1. Setup and Imports"
   ]
  },
  {
   "cell_type": "code",
   "execution_count": null,
   "metadata": {},
   "outputs": [],
   "source": [
    "# Install required packages\n",
    "!pip install librosa numpy pandas scikit-learn matplotlib seaborn tqdm"
   ]
  }
 ],
 "metadata": {
  "kernelspec": {
   "display_name": "Python 3",
   "language": "python",
   "name": "python3"
  },
  "language_info": {
   "codemirror_mode": {
    "name": "ipython",
    "version": 3
   },
   "file_extension": ".py",
   "mimetype": "text/x-python",
   "name": "python",
   "nbconvert_exporter": "python",
   "pygments_lexer": "ipython3",
   "version": "3.8.10"
  }
 },
 "nbformat": 4,
 "nbformat_minor": 4
}
